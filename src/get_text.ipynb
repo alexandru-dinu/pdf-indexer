{
 "cells": [
  {
   "cell_type": "code",
   "execution_count": null,
   "metadata": {},
   "outputs": [],
   "source": [
    "from pathlib import Path\n",
    "\n",
    "import random\n",
    "\n",
    "from collections import Counter\n",
    "import subprocess as sp\n",
    "import multiprocessing as mp\n",
    "\n",
    "from spacy.tokenizer import Tokenizer\n",
    "from spacy.lang.en import English\n",
    "\n",
    "import uuid"
   ]
  },
  {
   "cell_type": "code",
   "execution_count": null,
   "metadata": {},
   "outputs": [],
   "source": [
    "home = Path(os.environ['HOME']) \n",
    "p = home / 'pdfs'\n",
    "pdfs = sorted([p / x for x in os.listdir(p)], key=os.path.getsize)\n",
    "\n",
    "pkl_path = './pdfs_txt.pkl'\n",
    "\n",
    "nlp = English()\n",
    "tokenizer = Tokenizer(nlp.vocab)"
   ]
  },
  {
   "cell_type": "code",
   "execution_count": null,
   "metadata": {},
   "outputs": [],
   "source": [
    "def extract_strings(pdf):\n",
    "    cmd = ['pdfgrep', '-i', '[a-z0-9]', str(pdf)]\n",
    "    out = sp.run(cmd, stdout=sp.PIPE, stderr=sp.PIPE)\n",
    "    \n",
    "    is_garbage = lambda t: any([\n",
    "        len(t) < 3, t.is_punct, t.is_stop, t.is_space, t.like_num\n",
    "    ])\n",
    "\n",
    "    tokens = tokenizer(out.stdout.decode('utf8'))\n",
    "    tokens = [re.sub(r'[^a-z]', '', t.text.lower()) for t in tokens if not is_garbage(t)]\n",
    "    tokens = [t for t in tokens if len(t) > 0]\n",
    "    \n",
    "    return pdf, Counter(tokens)"
   ]
  },
  {
   "cell_type": "code",
   "execution_count": null,
   "metadata": {},
   "outputs": [],
   "source": [
    "with mp.Pool(processes=8) as pool:\n",
    "    out = pool.map(extract_strings, pdfs)\n",
    "    \n",
    "pickle.dump(out, open(pkl_path, 'wb'))"
   ]
  }
 ],
 "metadata": {
  "kernelspec": {
   "display_name": "Python 3",
   "language": "python",
   "name": "python3"
  },
  "language_info": {
   "codemirror_mode": {
    "name": "ipython",
    "version": 3
   },
   "file_extension": ".py",
   "mimetype": "text/x-python",
   "name": "python",
   "nbconvert_exporter": "python",
   "pygments_lexer": "ipython3",
   "version": "3.7.6"
  }
 },
 "nbformat": 4,
 "nbformat_minor": 4
}
